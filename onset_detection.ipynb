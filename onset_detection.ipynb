{
 "cells": [
  {
   "cell_type": "code",
   "execution_count": 12,
   "metadata": {},
   "outputs": [],
   "source": [
    "import librosa, librosa.display, librosa.util\n",
    "import matplotlib.pyplot as plt\n",
    "import numpy as np"
   ]
  },
  {
   "cell_type": "code",
   "execution_count": 13,
   "metadata": {},
   "outputs": [],
   "source": [
    "y, sr = librosa.load('./audio/StarS.wav')\n",
    "C = np.abs(librosa.cqt(y, sr=sr, hop_length=64, n_bins=84, bins_per_octave=12))"
   ]
  },
  {
   "cell_type": "markdown",
   "metadata": {},
   "source": [
    "> C - 分音矩阵  \n",
    "> C.shape - 84个音， 时间帧"
   ]
  },
  {
   "cell_type": "code",
   "execution_count": 14,
   "metadata": {},
   "outputs": [
    {
     "name": "stdout",
     "output_type": "stream",
     "text": [
      "(84, 2765)\n"
     ]
    }
   ],
   "source": [
    "type(C)\n",
    "print(C.shape)"
   ]
  },
  {
   "cell_type": "markdown",
   "metadata": {},
   "source": [
    "# Dimensionality Deduction  \n",
    "Output: d_C as dimension-deducted C matrix  \n",
    "\n",
    "Take every 5 frames to 1 using average  \n",
    "**Time as y_axis, changed from here**  \n",
    "\n",
    "Calculated after C"
   ]
  },
  {
   "cell_type": "code",
   "execution_count": 37,
   "metadata": {},
   "outputs": [],
   "source": [
    "d_C = np.zeros([1, C.shape[0]])\n",
    "local_sum = np.zeros([1, C.shape[0]])\n",
    "# 84*1\n",
    "\n",
    "\n",
    "i=0\n",
    "de_di_rate = 32\n",
    "for i in range(0, C.shape[1]):\n",
    "    if (i+1)%de_di_rate != 0:\n",
    "        local_sum += C[:,i]\n",
    "    else:\n",
    "        local_sum /= de_di_rate\n",
    "        d_C = np.r_[d_C, local_sum]\n",
    "        local_sum = np.zeros([1, C.shape[0]])\n",
    "        \n",
    "if (i+1)%de_di_rate != 0:\n",
    "    local_sum /= (i+1)%de_di_rate\n",
    "    d_C = np.r_[d_C, local_sum]"
   ]
  },
  {
   "cell_type": "markdown",
   "metadata": {},
   "source": [
    "> 检查时间帧顺序，d_C中第一帧的[0]此时可用作参考  "
   ]
  },
  {
   "cell_type": "code",
   "execution_count": 36,
   "metadata": {},
   "outputs": [
    {
     "name": "stdout",
     "output_type": "stream",
     "text": [
      "[[0.00000000e+00 0.00000000e+00 0.00000000e+00 ... 0.00000000e+00\n",
      "  0.00000000e+00 0.00000000e+00]\n",
      " [1.89153405e-03 2.18231400e-03 2.93586570e-03 ... 1.61692366e-05\n",
      "  1.77254463e-05 1.81078254e-05]\n",
      " [2.14011595e-02 8.54435577e-03 1.66741141e-02 ... 6.67155131e-05\n",
      "  6.18385536e-05 7.03909707e-05]\n",
      " ...\n",
      " [2.55296035e-02 7.88990752e-02 7.52494025e-02 ... 1.23546209e-04\n",
      "  1.12717019e-04 1.04306168e-04]\n",
      " [3.55073796e-02 7.76866996e-02 6.65336209e-02 ... 1.92732741e-04\n",
      "  1.66047016e-04 1.52957966e-04]\n",
      " [1.86698573e-02 4.91173002e-02 7.15783940e-02 ... 1.89593075e-04\n",
      "  1.41269191e-04 1.27747995e-04]]\n"
     ]
    }
   ],
   "source": [
    "print(d_C)"
   ]
  },
  {
   "cell_type": "code",
   "execution_count": 38,
   "metadata": {},
   "outputs": [
    {
     "data": {
      "image/png": "[encoded data removed]",
      "text/plain": [
       "<Figure size 432x288 with 1 Axes>"
      ]
     },
     "metadata": {
      "needs_background": "light"
     },
     "output_type": "display_data"
    }
   ],
   "source": [
    "librosa.display.specshow(np.transpose(d_C), sr=sr, x_axis='time', y_axis='cqt_note')\n",
    "plt.set_cmap('hot')\n",
    "plt.show()"
   ]
  },
  {
   "cell_type": "markdown",
   "metadata": {},
   "source": [
    "# Denoising  \n",
    "Output: n_C as normalized C matrix\n",
    "- Normalization  \n",
    "- Threshold  \n",
    "\n",
    "Calculated after d_C"
   ]
  },
  {
   "cell_type": "code",
   "execution_count": 39,
   "metadata": {},
   "outputs": [],
   "source": [
    "n_C = d_C/np.max(d_C)\n",
    "SIGMA = 0.1\n",
    "for i in range(0, n_C.shape[0]):\n",
    "    for j in range(0, n_C.shape[1]):\n",
    "        if n_C[i][j] < SIGMA:\n",
    "            n_C[i][j] = 0\n",
    "            "
   ]
  },
  {
   "cell_type": "code",
   "execution_count": 40,
   "metadata": {},
   "outputs": [
    {
     "data": {
      "image/png": "[encoded data removed]",
      "text/plain": [
       "<Figure size 432x288 with 1 Axes>"
      ]
     },
     "metadata": {
      "needs_background": "light"
     },
     "output_type": "display_data"
    }
   ],
   "source": [
    "librosa.display.specshow(np.transpose(n_C), sr=sr, x_axis='time', y_axis='cqt_note')\n",
    "plt.set_cmap('hot')\n",
    "plt.show()"
   ]
  },
  {
   "cell_type": "markdown",
   "metadata": {},
   "source": [
    "# Euclidean Distance  \n",
    "\n",
    "${\\Sigma_i{{(x[i]-y[i])}}^2}$  "
   ]
  },
  {
   "cell_type": "code",
   "execution_count": 43,
   "metadata": {},
   "outputs": [
    {
     "name": "stdout",
     "output_type": "stream",
     "text": [
      "<class 'numpy.ndarray'> (88, 84)\n"
     ]
    }
   ],
   "source": [
    "print(type(n_C), n_C.shape)"
   ]
  },
  {
   "cell_type": "code",
   "execution_count": 54,
   "metadata": {},
   "outputs": [],
   "source": [
    "eu_dst = np.zeros([n_C.shape[0] - 1, n_C.shape[1]])\n",
    "for i in range(0, n_C.shape[0] - 1):\n",
    "    eu_dst[i] = (n_C[i] - n_C[i+1]) * (n_C[i] - n_C[i+1])"
   ]
  },
  {
   "cell_type": "code",
   "execution_count": null,
   "metadata": {},
   "outputs": [],
   "source": [
    "data = eu_dst.reshape(1, eu_dst.shape[0] * eu_dst.shape[1])\n",
    "plt.hist(data)\n",
    "plt.show()"
   ]
  }
 ],
 "metadata": {
  "kernelspec": {
   "display_name": "Python 3",
   "language": "python",
   "name": "python3"
  },
  "language_info": {
   "codemirror_mode": {
    "name": "ipython",
    "version": 3
   },
   "file_extension": ".py",
   "mimetype": "text/x-python",
   "name": "python",
   "nbconvert_exporter": "python",
   "pygments_lexer": "ipython3",
   "version": "3.5.2"
  }
 },
 "nbformat": 4,
 "nbformat_minor": 2
}
