{
 "cells": [
  {
   "cell_type": "markdown",
   "metadata": {},
   "source": [
    "# Objective\n",
    "\n",
    "To optimize two parameters, better to be self-adjustive to the source file:  \n",
    "- Window length  \n",
    "- Peak reserve threshold $\\sigma$\n",
    "\n",
    "> Previously in `note_onset_detection.ipynb`, these two parameters corresponding to:  \n",
    "> - Frame numbers in 3 seconds  \n",
    "> - 1.5 times the arithmetic mean of all the peak values  "
   ]
  },
  {
   "cell_type": "code",
   "execution_count": null,
   "metadata": {},
   "outputs": [],
   "source": []
  }
 ],
 "metadata": {
  "kernelspec": {
   "display_name": "Python 3",
   "language": "python",
   "name": "python3"
  },
  "language_info": {
   "codemirror_mode": {
    "name": "ipython",
    "version": 3
   },
   "file_extension": ".py",
   "mimetype": "text/x-python",
   "name": "python",
   "nbconvert_exporter": "python",
   "pygments_lexer": "ipython3",
   "version": "3.5.2"
  }
 },
 "nbformat": 4,
 "nbformat_minor": 2
}
